{
 "cells": [
  {
   "cell_type": "markdown",
   "metadata": {},
   "source": [
    "# import libraries"
   ]
  },
  {
   "cell_type": "code",
   "execution_count": 1,
   "metadata": {},
   "outputs": [],
   "source": [
    "import os\n",
    "import re\n",
    "import docx\n",
    "import csv\n",
    "import pandas as pd\n",
    "import numpy as np\n",
    "import pathlib\n",
    "\n",
    "#for similarity analysis\n",
    "## use pip install sentence-transformers\n",
    "from sentence_transformers import SentenceTransformer, util\n",
    "import matplotlib.pyplot as plt\n",
    "## use pip install scikit-learn \n",
    "from sklearn.metrics.pairwise import cosine_similarity"
   ]
  },
  {
   "cell_type": "markdown",
   "metadata": {},
   "source": [
    "# Collection of the data : \n",
    "* choice to perform it from an online survey at\n",
    "    * first iteration at https://forms.gle/7d1jEtoqDeSqiXPS9\n",
    "    * deprecated for https://forms.gle/oF4uMZNu3c2Mg97G7 (a survey for each situation unit)\n"
   ]
  },
  {
   "cell_type": "code",
   "execution_count": 2,
   "metadata": {},
   "outputs": [
    {
     "data": {
      "text/plain": [
       "'/Users/louisdelamarre/Desktop/my-R-projects/DatathonRobotonomie'"
      ]
     },
     "execution_count": 2,
     "metadata": {},
     "output_type": "execute_result"
    }
   ],
   "source": [
    "os.getcwd()"
   ]
  },
  {
   "cell_type": "code",
   "execution_count": 3,
   "metadata": {},
   "outputs": [
    {
     "data": {
      "text/plain": [
       "['2022-03-27_robotonomie_data-collection_Forms.csv',\n",
       " '2022-03-28_robotonomie_file-management_collection-2.csv']"
      ]
     },
     "execution_count": 3,
     "metadata": {},
     "output_type": "execute_result"
    }
   ],
   "source": [
    "\n",
    "entries = os.listdir()\n",
    "list_csv = []\n",
    "for entry in entries :\n",
    "    if re.search(\".*csv$\", entry):\n",
    "        list_csv.append(entry)\n",
    "\n",
    "list_csv\n"
   ]
  },
  {
   "cell_type": "code",
   "execution_count": 4,
   "metadata": {},
   "outputs": [],
   "source": [
    "df = pd.read_csv('2022-03-28_robotonomie_file-management_collection-2.csv')"
   ]
  },
  {
   "cell_type": "code",
   "execution_count": 5,
   "metadata": {},
   "outputs": [
    {
     "data": {
      "text/html": [
       "<div>\n",
       "<style scoped>\n",
       "    .dataframe tbody tr th:only-of-type {\n",
       "        vertical-align: middle;\n",
       "    }\n",
       "\n",
       "    .dataframe tbody tr th {\n",
       "        vertical-align: top;\n",
       "    }\n",
       "\n",
       "    .dataframe thead th {\n",
       "        text-align: right;\n",
       "    }\n",
       "</style>\n",
       "<table border=\"1\" class=\"dataframe\">\n",
       "  <thead>\n",
       "    <tr style=\"text-align: right;\">\n",
       "      <th></th>\n",
       "      <th>Horodateur</th>\n",
       "      <th>name</th>\n",
       "      <th>situation_name</th>\n",
       "      <th>situation_text</th>\n",
       "      <th>situation_photo</th>\n",
       "    </tr>\n",
       "  </thead>\n",
       "  <tbody>\n",
       "    <tr>\n",
       "      <th>0</th>\n",
       "      <td>28/03/2022 11:17:01</td>\n",
       "      <td>louis</td>\n",
       "      <td>cerdanya</td>\n",
       "      <td>1.\\tWhat is this photo?\\nThis is a photo of ou...</td>\n",
       "      <td>https://drive.google.com/open?id=1rsGy_LeROCz3...</td>\n",
       "    </tr>\n",
       "    <tr>\n",
       "      <th>1</th>\n",
       "      <td>28/03/2022 11:17:38</td>\n",
       "      <td>louis</td>\n",
       "      <td>plantes</td>\n",
       "      <td>1.\\tWhat is this photo?\\nThis is a photo of th...</td>\n",
       "      <td>https://drive.google.com/open?id=1MwR4VZtcIc9G...</td>\n",
       "    </tr>\n",
       "    <tr>\n",
       "      <th>2</th>\n",
       "      <td>28/03/2022 11:18:13</td>\n",
       "      <td>louis</td>\n",
       "      <td>borely</td>\n",
       "      <td>1.\\tWhat is this photo?\\nThis is a photo of th...</td>\n",
       "      <td>https://drive.google.com/open?id=1XO2EJSktaoKq...</td>\n",
       "    </tr>\n",
       "    <tr>\n",
       "      <th>3</th>\n",
       "      <td>28/03/2022 11:18:44</td>\n",
       "      <td>louis</td>\n",
       "      <td>annecy</td>\n",
       "      <td>1.\\tWhat is this photo?\\nThis is a photo of la...</td>\n",
       "      <td>https://drive.google.com/open?id=1mO6F5e-Happk...</td>\n",
       "    </tr>\n",
       "    <tr>\n",
       "      <th>4</th>\n",
       "      <td>28/03/2022 11:19:23</td>\n",
       "      <td>louis</td>\n",
       "      <td>calanques</td>\n",
       "      <td>1.\\tWhat is this photo?\\nThis is a photo of th...</td>\n",
       "      <td>https://drive.google.com/open?id=1BOF5DIjTk-UY...</td>\n",
       "    </tr>\n",
       "    <tr>\n",
       "      <th>5</th>\n",
       "      <td>28/03/2022 11:20:16</td>\n",
       "      <td>peter</td>\n",
       "      <td>bike trip</td>\n",
       "      <td>1.\\tWhat is this photo?\\nThis is a photo of ou...</td>\n",
       "      <td>https://drive.google.com/open?id=1KOgwzYsUo4gS...</td>\n",
       "    </tr>\n",
       "    <tr>\n",
       "      <th>6</th>\n",
       "      <td>28/03/2022 11:20:47</td>\n",
       "      <td>peter</td>\n",
       "      <td>chicago</td>\n",
       "      <td>1.\\tWhat is this photo?\\nThis is a photo of my...</td>\n",
       "      <td>https://drive.google.com/open?id=16mq5qXERJThn...</td>\n",
       "    </tr>\n",
       "    <tr>\n",
       "      <th>7</th>\n",
       "      <td>28/03/2022 11:21:34</td>\n",
       "      <td>peter</td>\n",
       "      <td>koyasan</td>\n",
       "      <td>1.\\tWhat is this photo?\\nThis is a photo of th...</td>\n",
       "      <td>https://drive.google.com/open?id=1j06-kYa8f8oc...</td>\n",
       "    </tr>\n",
       "    <tr>\n",
       "      <th>8</th>\n",
       "      <td>28/03/2022 11:22:45</td>\n",
       "      <td>peter</td>\n",
       "      <td>marathon</td>\n",
       "      <td>1.\\tWhat is this photo?\\nThis is a photo of th...</td>\n",
       "      <td>https://drive.google.com/open?id=1KGmay1c3G9Xx...</td>\n",
       "    </tr>\n",
       "    <tr>\n",
       "      <th>9</th>\n",
       "      <td>28/03/2022 11:23:16</td>\n",
       "      <td>peter</td>\n",
       "      <td>newyork</td>\n",
       "      <td>1.\\tWhat is this photo?\\nThis is a photo of me...</td>\n",
       "      <td>https://drive.google.com/open?id=1x5TFr-2HZ3mH...</td>\n",
       "    </tr>\n",
       "  </tbody>\n",
       "</table>\n",
       "</div>"
      ],
      "text/plain": [
       "            Horodateur   name situation_name  \\\n",
       "0  28/03/2022 11:17:01  louis       cerdanya   \n",
       "1  28/03/2022 11:17:38  louis        plantes   \n",
       "2  28/03/2022 11:18:13  louis         borely   \n",
       "3  28/03/2022 11:18:44  louis         annecy   \n",
       "4  28/03/2022 11:19:23  louis      calanques   \n",
       "5  28/03/2022 11:20:16  peter      bike trip   \n",
       "6  28/03/2022 11:20:47  peter        chicago   \n",
       "7  28/03/2022 11:21:34  peter        koyasan   \n",
       "8  28/03/2022 11:22:45  peter       marathon   \n",
       "9  28/03/2022 11:23:16  peter        newyork   \n",
       "\n",
       "                                      situation_text  \\\n",
       "0  1.\\tWhat is this photo?\\nThis is a photo of ou...   \n",
       "1  1.\\tWhat is this photo?\\nThis is a photo of th...   \n",
       "2  1.\\tWhat is this photo?\\nThis is a photo of th...   \n",
       "3  1.\\tWhat is this photo?\\nThis is a photo of la...   \n",
       "4  1.\\tWhat is this photo?\\nThis is a photo of th...   \n",
       "5  1.\\tWhat is this photo?\\nThis is a photo of ou...   \n",
       "6  1.\\tWhat is this photo?\\nThis is a photo of my...   \n",
       "7  1.\\tWhat is this photo?\\nThis is a photo of th...   \n",
       "8  1.\\tWhat is this photo?\\nThis is a photo of th...   \n",
       "9  1.\\tWhat is this photo?\\nThis is a photo of me...   \n",
       "\n",
       "                                     situation_photo  \n",
       "0  https://drive.google.com/open?id=1rsGy_LeROCz3...  \n",
       "1  https://drive.google.com/open?id=1MwR4VZtcIc9G...  \n",
       "2  https://drive.google.com/open?id=1XO2EJSktaoKq...  \n",
       "3  https://drive.google.com/open?id=1mO6F5e-Happk...  \n",
       "4  https://drive.google.com/open?id=1BOF5DIjTk-UY...  \n",
       "5  https://drive.google.com/open?id=1KOgwzYsUo4gS...  \n",
       "6  https://drive.google.com/open?id=16mq5qXERJThn...  \n",
       "7  https://drive.google.com/open?id=1j06-kYa8f8oc...  \n",
       "8  https://drive.google.com/open?id=1KGmay1c3G9Xx...  \n",
       "9  https://drive.google.com/open?id=1x5TFr-2HZ3mH...  "
      ]
     },
     "execution_count": 5,
     "metadata": {},
     "output_type": "execute_result"
    }
   ],
   "source": [
    "df"
   ]
  },
  {
   "cell_type": "markdown",
   "metadata": {},
   "source": [
    "# Create the architecture of the desired dataframe \"text_df\""
   ]
  },
  {
   "cell_type": "code",
   "execution_count": 6,
   "metadata": {},
   "outputs": [
    {
     "data": {
      "text/plain": [
       "Horodateur         object\n",
       "name               object\n",
       "situation_name     object\n",
       "situation_text     object\n",
       "situation_photo    object\n",
       "dtype: object"
      ]
     },
     "execution_count": 6,
     "metadata": {},
     "output_type": "execute_result"
    }
   ],
   "source": [
    "df.columns\n",
    "df.dtypes\n"
   ]
  },
  {
   "cell_type": "code",
   "execution_count": 7,
   "metadata": {},
   "outputs": [],
   "source": [
    "# drop 'Horodateur'\n",
    "df = df.drop(\"Horodateur\", axis = 1)"
   ]
  },
  {
   "cell_type": "code",
   "execution_count": 8,
   "metadata": {},
   "outputs": [
    {
     "data": {
      "text/plain": [
       "(10, 4)"
      ]
     },
     "execution_count": 8,
     "metadata": {},
     "output_type": "execute_result"
    }
   ],
   "source": [
    "#nb_entries =\n",
    "df.shape"
   ]
  },
  {
   "cell_type": "code",
   "execution_count": 9,
   "metadata": {},
   "outputs": [],
   "source": [
    "## counting the nb of situations - This part is no longer required as the collection of data changed#\n",
    "#count_nb_situation = []\n",
    "#for column in df.columns: \n",
    "#    if re.search(\".*photo$\", column):\n",
    "#        count_nb_situation.append(column)\n",
    "##count_nb_situation\n",
    "#\n",
    "#nb_situations = len(count_nb_situation)\n",
    "\n",
    "## framing the text dataframe - this is no longer required\n",
    "#text_df = pd.DataFrame(\n",
    "#    {\n",
    "#    \"text_id\" : np.tile(np.arange(1, len(df.name) * nb_situations+1),1)\n",
    " #   }\n",
    "#)\n",
    "#text_df = {\"text_id\" : range(1:)}\n",
    "\n",
    "#user_names = df['name'].unique()\n",
    "#user_id_list = []\n",
    "#for i in user_names:\n",
    "#    for j in range(5):\n",
    "#        user_id_list.append(i)\n",
    "\n",
    "#user_id_list\n",
    "\n",
    "#text_df['user_id'] = user_id_list"
   ]
  },
  {
   "cell_type": "code",
   "execution_count": 10,
   "metadata": {},
   "outputs": [
    {
     "data": {
      "text/html": [
       "<div>\n",
       "<style scoped>\n",
       "    .dataframe tbody tr th:only-of-type {\n",
       "        vertical-align: middle;\n",
       "    }\n",
       "\n",
       "    .dataframe tbody tr th {\n",
       "        vertical-align: top;\n",
       "    }\n",
       "\n",
       "    .dataframe thead th {\n",
       "        text-align: right;\n",
       "    }\n",
       "</style>\n",
       "<table border=\"1\" class=\"dataframe\">\n",
       "  <thead>\n",
       "    <tr style=\"text-align: right;\">\n",
       "      <th></th>\n",
       "      <th>name</th>\n",
       "      <th>situation_name</th>\n",
       "      <th>situation_text</th>\n",
       "      <th>situation_photo</th>\n",
       "    </tr>\n",
       "  </thead>\n",
       "  <tbody>\n",
       "    <tr>\n",
       "      <th>0</th>\n",
       "      <td>louis</td>\n",
       "      <td>cerdanya</td>\n",
       "      <td>1.\\tWhat is this photo?\\nThis is a photo of ou...</td>\n",
       "      <td>https://drive.google.com/open?id=1rsGy_LeROCz3...</td>\n",
       "    </tr>\n",
       "    <tr>\n",
       "      <th>1</th>\n",
       "      <td>louis</td>\n",
       "      <td>plantes</td>\n",
       "      <td>1.\\tWhat is this photo?\\nThis is a photo of th...</td>\n",
       "      <td>https://drive.google.com/open?id=1MwR4VZtcIc9G...</td>\n",
       "    </tr>\n",
       "    <tr>\n",
       "      <th>2</th>\n",
       "      <td>louis</td>\n",
       "      <td>borely</td>\n",
       "      <td>1.\\tWhat is this photo?\\nThis is a photo of th...</td>\n",
       "      <td>https://drive.google.com/open?id=1XO2EJSktaoKq...</td>\n",
       "    </tr>\n",
       "    <tr>\n",
       "      <th>3</th>\n",
       "      <td>louis</td>\n",
       "      <td>annecy</td>\n",
       "      <td>1.\\tWhat is this photo?\\nThis is a photo of la...</td>\n",
       "      <td>https://drive.google.com/open?id=1mO6F5e-Happk...</td>\n",
       "    </tr>\n",
       "    <tr>\n",
       "      <th>4</th>\n",
       "      <td>louis</td>\n",
       "      <td>calanques</td>\n",
       "      <td>1.\\tWhat is this photo?\\nThis is a photo of th...</td>\n",
       "      <td>https://drive.google.com/open?id=1BOF5DIjTk-UY...</td>\n",
       "    </tr>\n",
       "    <tr>\n",
       "      <th>5</th>\n",
       "      <td>peter</td>\n",
       "      <td>bike trip</td>\n",
       "      <td>1.\\tWhat is this photo?\\nThis is a photo of ou...</td>\n",
       "      <td>https://drive.google.com/open?id=1KOgwzYsUo4gS...</td>\n",
       "    </tr>\n",
       "    <tr>\n",
       "      <th>6</th>\n",
       "      <td>peter</td>\n",
       "      <td>chicago</td>\n",
       "      <td>1.\\tWhat is this photo?\\nThis is a photo of my...</td>\n",
       "      <td>https://drive.google.com/open?id=16mq5qXERJThn...</td>\n",
       "    </tr>\n",
       "    <tr>\n",
       "      <th>7</th>\n",
       "      <td>peter</td>\n",
       "      <td>koyasan</td>\n",
       "      <td>1.\\tWhat is this photo?\\nThis is a photo of th...</td>\n",
       "      <td>https://drive.google.com/open?id=1j06-kYa8f8oc...</td>\n",
       "    </tr>\n",
       "    <tr>\n",
       "      <th>8</th>\n",
       "      <td>peter</td>\n",
       "      <td>marathon</td>\n",
       "      <td>1.\\tWhat is this photo?\\nThis is a photo of th...</td>\n",
       "      <td>https://drive.google.com/open?id=1KGmay1c3G9Xx...</td>\n",
       "    </tr>\n",
       "    <tr>\n",
       "      <th>9</th>\n",
       "      <td>peter</td>\n",
       "      <td>newyork</td>\n",
       "      <td>1.\\tWhat is this photo?\\nThis is a photo of me...</td>\n",
       "      <td>https://drive.google.com/open?id=1x5TFr-2HZ3mH...</td>\n",
       "    </tr>\n",
       "  </tbody>\n",
       "</table>\n",
       "</div>"
      ],
      "text/plain": [
       "    name situation_name                                     situation_text  \\\n",
       "0  louis       cerdanya  1.\\tWhat is this photo?\\nThis is a photo of ou...   \n",
       "1  louis        plantes  1.\\tWhat is this photo?\\nThis is a photo of th...   \n",
       "2  louis         borely  1.\\tWhat is this photo?\\nThis is a photo of th...   \n",
       "3  louis         annecy  1.\\tWhat is this photo?\\nThis is a photo of la...   \n",
       "4  louis      calanques  1.\\tWhat is this photo?\\nThis is a photo of th...   \n",
       "5  peter      bike trip  1.\\tWhat is this photo?\\nThis is a photo of ou...   \n",
       "6  peter        chicago  1.\\tWhat is this photo?\\nThis is a photo of my...   \n",
       "7  peter        koyasan  1.\\tWhat is this photo?\\nThis is a photo of th...   \n",
       "8  peter       marathon  1.\\tWhat is this photo?\\nThis is a photo of th...   \n",
       "9  peter        newyork  1.\\tWhat is this photo?\\nThis is a photo of me...   \n",
       "\n",
       "                                     situation_photo  \n",
       "0  https://drive.google.com/open?id=1rsGy_LeROCz3...  \n",
       "1  https://drive.google.com/open?id=1MwR4VZtcIc9G...  \n",
       "2  https://drive.google.com/open?id=1XO2EJSktaoKq...  \n",
       "3  https://drive.google.com/open?id=1mO6F5e-Happk...  \n",
       "4  https://drive.google.com/open?id=1BOF5DIjTk-UY...  \n",
       "5  https://drive.google.com/open?id=1KOgwzYsUo4gS...  \n",
       "6  https://drive.google.com/open?id=16mq5qXERJThn...  \n",
       "7  https://drive.google.com/open?id=1j06-kYa8f8oc...  \n",
       "8  https://drive.google.com/open?id=1KGmay1c3G9Xx...  \n",
       "9  https://drive.google.com/open?id=1x5TFr-2HZ3mH...  "
      ]
     },
     "execution_count": 10,
     "metadata": {},
     "output_type": "execute_result"
    }
   ],
   "source": [
    "df"
   ]
  },
  {
   "cell_type": "markdown",
   "metadata": {},
   "source": [
    "# Formatting the text to delete all the questions."
   ]
  },
  {
   "cell_type": "code",
   "execution_count": 11,
   "metadata": {},
   "outputs": [],
   "source": [
    "# setting the sentences to delete\n",
    "exemple = df.situation_text[0]\n",
    "question1 = \"1.\\tWhat is this photo?\\n\"\n",
    "question2 = \"\\n2.\\tWhere did you take this photo?\\n\"\n",
    "question3 = \"\\n3.\\tWhen did you take this photo?\\n\"\n",
    "question4 = \"\\n4.\\tWho was with you when you took this photo?\\n\"\n",
    "question5 = \"\\n5.\\tWhy do you like this photo?\\n\""
   ]
  },
  {
   "cell_type": "code",
   "execution_count": 12,
   "metadata": {},
   "outputs": [
    {
     "data": {
      "text/plain": [
       "'This is a photo of our winter vacation bicycle trip. In the backcountry of Cerdanya, in the Pyrenean.This winter.I was with my wife Inès and my friend Pierre.I like to go bicycle touring out of the city to discover new places.'"
      ]
     },
     "execution_count": 12,
     "metadata": {},
     "output_type": "execute_result"
    }
   ],
   "source": [
    "splitted_sentence = re.split(\"\\n\", exemple)\n",
    "new_sentence = []\n",
    "discard = []\n",
    "for sent in splitted_sentence:\n",
    "    if re.search(\"^[0-9]\", sent) and re.search(\".?$\", sent):\n",
    "        discard.append(sent)\n",
    "    else :\n",
    "        new_sentence.append(sent)\n",
    "\n",
    "new_sentence\n",
    "formatted_new_sentence = \". \".join(new_sentence)\n",
    "re.sub('\\..', '.', formatted_new_sentence)"
   ]
  },
  {
   "cell_type": "code",
   "execution_count": 13,
   "metadata": {},
   "outputs": [],
   "source": [
    "# creating a function to format the text\n",
    "def text_formatting(exemple):\n",
    "    splitted_sentence = re.split(\"\\n\", exemple)\n",
    "    new_sentence = []\n",
    "    discard = []\n",
    "    for sent in splitted_sentence:\n",
    "        if re.search(\"^[0-9]\", sent) and re.search(\".?$\", sent):\n",
    "            discard.append(sent)\n",
    "        else :\n",
    "            new_sentence.append(sent)\n",
    "\n",
    "    formatted_new_sentence = \". \".join(new_sentence)\n",
    "    formatted_new_sentence = re.sub('\\..', '.', formatted_new_sentence)\n",
    "    return formatted_new_sentence"
   ]
  },
  {
   "cell_type": "code",
   "execution_count": 14,
   "metadata": {},
   "outputs": [],
   "source": [
    "#apply the custom function to the dataframe situation_text column :\n",
    "df.situation_text = df.situation_text.apply(text_formatting)"
   ]
  },
  {
   "cell_type": "code",
   "execution_count": 15,
   "metadata": {},
   "outputs": [
    {
     "data": {
      "text/html": [
       "<div>\n",
       "<style scoped>\n",
       "    .dataframe tbody tr th:only-of-type {\n",
       "        vertical-align: middle;\n",
       "    }\n",
       "\n",
       "    .dataframe tbody tr th {\n",
       "        vertical-align: top;\n",
       "    }\n",
       "\n",
       "    .dataframe thead th {\n",
       "        text-align: right;\n",
       "    }\n",
       "</style>\n",
       "<table border=\"1\" class=\"dataframe\">\n",
       "  <thead>\n",
       "    <tr style=\"text-align: right;\">\n",
       "      <th></th>\n",
       "      <th>name</th>\n",
       "      <th>situation_name</th>\n",
       "      <th>situation_text</th>\n",
       "      <th>situation_photo</th>\n",
       "    </tr>\n",
       "  </thead>\n",
       "  <tbody>\n",
       "    <tr>\n",
       "      <th>0</th>\n",
       "      <td>louis</td>\n",
       "      <td>cerdanya</td>\n",
       "      <td>This is a photo of our winter vacation bicycle...</td>\n",
       "      <td>https://drive.google.com/open?id=1rsGy_LeROCz3...</td>\n",
       "    </tr>\n",
       "    <tr>\n",
       "      <th>1</th>\n",
       "      <td>louis</td>\n",
       "      <td>plantes</td>\n",
       "      <td>This is a photo of the plants I grow at home. ...</td>\n",
       "      <td>https://drive.google.com/open?id=1MwR4VZtcIc9G...</td>\n",
       "    </tr>\n",
       "    <tr>\n",
       "      <th>2</th>\n",
       "      <td>louis</td>\n",
       "      <td>borely</td>\n",
       "      <td>This is a photo of the fountain in the Borely ...</td>\n",
       "      <td>https://drive.google.com/open?id=1XO2EJSktaoKq...</td>\n",
       "    </tr>\n",
       "    <tr>\n",
       "      <th>3</th>\n",
       "      <td>louis</td>\n",
       "      <td>annecy</td>\n",
       "      <td>This is a photo of lake of Annecy during the w...</td>\n",
       "      <td>https://drive.google.com/open?id=1mO6F5e-Happk...</td>\n",
       "    </tr>\n",
       "    <tr>\n",
       "      <th>4</th>\n",
       "      <td>louis</td>\n",
       "      <td>calanques</td>\n",
       "      <td>This is a photo of the Parc National des Calan...</td>\n",
       "      <td>https://drive.google.com/open?id=1BOF5DIjTk-UY...</td>\n",
       "    </tr>\n",
       "    <tr>\n",
       "      <th>5</th>\n",
       "      <td>peter</td>\n",
       "      <td>bike trip</td>\n",
       "      <td>This is a photo of our summer vacation bicycle...</td>\n",
       "      <td>https://drive.google.com/open?id=1KOgwzYsUo4gS...</td>\n",
       "    </tr>\n",
       "    <tr>\n",
       "      <th>6</th>\n",
       "      <td>peter</td>\n",
       "      <td>chicago</td>\n",
       "      <td>This is a photo of my family vacation in chica...</td>\n",
       "      <td>https://drive.google.com/open?id=16mq5qXERJThn...</td>\n",
       "    </tr>\n",
       "    <tr>\n",
       "      <th>7</th>\n",
       "      <td>peter</td>\n",
       "      <td>koyasan</td>\n",
       "      <td>This is a photo of the sacred Garan area on Mo...</td>\n",
       "      <td>https://drive.google.com/open?id=1j06-kYa8f8oc...</td>\n",
       "    </tr>\n",
       "    <tr>\n",
       "      <th>8</th>\n",
       "      <td>peter</td>\n",
       "      <td>marathon</td>\n",
       "      <td>This is a photo of the Austin marathon. In Aus...</td>\n",
       "      <td>https://drive.google.com/open?id=1KGmay1c3G9Xx...</td>\n",
       "    </tr>\n",
       "    <tr>\n",
       "      <th>9</th>\n",
       "      <td>peter</td>\n",
       "      <td>newyork</td>\n",
       "      <td>This is a photo of me and my family on vacatio...</td>\n",
       "      <td>https://drive.google.com/open?id=1x5TFr-2HZ3mH...</td>\n",
       "    </tr>\n",
       "  </tbody>\n",
       "</table>\n",
       "</div>"
      ],
      "text/plain": [
       "    name situation_name                                     situation_text  \\\n",
       "0  louis       cerdanya  This is a photo of our winter vacation bicycle...   \n",
       "1  louis        plantes  This is a photo of the plants I grow at home. ...   \n",
       "2  louis         borely  This is a photo of the fountain in the Borely ...   \n",
       "3  louis         annecy  This is a photo of lake of Annecy during the w...   \n",
       "4  louis      calanques  This is a photo of the Parc National des Calan...   \n",
       "5  peter      bike trip  This is a photo of our summer vacation bicycle...   \n",
       "6  peter        chicago  This is a photo of my family vacation in chica...   \n",
       "7  peter        koyasan  This is a photo of the sacred Garan area on Mo...   \n",
       "8  peter       marathon  This is a photo of the Austin marathon. In Aus...   \n",
       "9  peter        newyork  This is a photo of me and my family on vacatio...   \n",
       "\n",
       "                                     situation_photo  \n",
       "0  https://drive.google.com/open?id=1rsGy_LeROCz3...  \n",
       "1  https://drive.google.com/open?id=1MwR4VZtcIc9G...  \n",
       "2  https://drive.google.com/open?id=1XO2EJSktaoKq...  \n",
       "3  https://drive.google.com/open?id=1mO6F5e-Happk...  \n",
       "4  https://drive.google.com/open?id=1BOF5DIjTk-UY...  \n",
       "5  https://drive.google.com/open?id=1KOgwzYsUo4gS...  \n",
       "6  https://drive.google.com/open?id=16mq5qXERJThn...  \n",
       "7  https://drive.google.com/open?id=1j06-kYa8f8oc...  \n",
       "8  https://drive.google.com/open?id=1KGmay1c3G9Xx...  \n",
       "9  https://drive.google.com/open?id=1x5TFr-2HZ3mH...  "
      ]
     },
     "execution_count": 15,
     "metadata": {},
     "output_type": "execute_result"
    }
   ],
   "source": [
    "df"
   ]
  },
  {
   "cell_type": "code",
   "execution_count": 16,
   "metadata": {},
   "outputs": [
    {
     "data": {
      "text/plain": [
       "'This is a photo of our winter vacation bicycle trip. In the backcountry of Cerdanya, in the Pyrenean.This winter.I was with my wife Inès and my friend Pierre.I like to go bicycle touring out of the city to discover new places.'"
      ]
     },
     "execution_count": 16,
     "metadata": {},
     "output_type": "execute_result"
    }
   ],
   "source": [
    "df.situation_text[0]"
   ]
  },
  {
   "cell_type": "markdown",
   "metadata": {},
   "source": [
    "# Similarity Matrix and analysis "
   ]
  },
  {
   "cell_type": "markdown",
   "metadata": {},
   "source": [
    "## Model selection and initialization"
   ]
  },
  {
   "cell_type": "code",
   "execution_count": 17,
   "metadata": {},
   "outputs": [],
   "source": [
    "# List of models optimized for semantic textual similarity can be found at:\n",
    "# https://docs.google.com/spreadsheets/d/14QplCdTCDwEmTqrn1LH4yrbKvdogK4oQvYO1K1aPR5M/edit#gid=0\n",
    "#distiluse-base-multilingual-cased-v1\n",
    "#model = SentenceTransformer('stsb-roberta-large')\n",
    "#https://www.sbert.net/docs/pretrained_models.html\n",
    "model = SentenceTransformer('distiluse-base-multilingual-cased-v1')"
   ]
  },
  {
   "cell_type": "code",
   "execution_count": 19,
   "metadata": {},
   "outputs": [],
   "source": [
    "## what is it ? how is it calculated ? \n",
    "\n",
    "#embeddings = np.empty([10,512])\n",
    "#sim_matrix = np.empty([10,10])"
   ]
  },
  {
   "cell_type": "markdown",
   "metadata": {},
   "source": [
    "## Calculate text similarity between two sets of sentences"
   ]
  },
  {
   "cell_type": "code",
   "execution_count": 46,
   "metadata": {},
   "outputs": [],
   "source": [
    "## try to access a list of all sentences for each user\n",
    "#list_sentences_louis = df.situation_text[df.name == 'louis'].tolist()\n",
    "#list_sentences_louis"
   ]
  },
  {
   "cell_type": "code",
   "execution_count": 47,
   "metadata": {},
   "outputs": [
    {
     "name": "stdout",
     "output_type": "stream",
     "text": [
      "Sentence 1: This is a photo of our winter vacation bicycle trip. In the backcountry of Cerdanya, in the Pyrenean.This winter.I was with my wife Inès and my friend Pierre.I like to go bicycle touring out of the city to discover new places.\n",
      "Sentence 2: This is a photo of our summer vacation bicycle trip. On a ferry boat on the Seine river.Last summer.I was with my wife Jocelyne, and two daughters, Emilie and Alexia.I have always wanted to go bicycle touring with my family, and this is a picture of that. \n",
      "Similarity Score: 0.7166913747787476\n",
      "\n",
      "Sentence 1: This is a photo of our winter vacation bicycle trip. In the backcountry of Cerdanya, in the Pyrenean.This winter.I was with my wife Inès and my friend Pierre.I like to go bicycle touring out of the city to discover new places.\n",
      "Sentence 2: This is a photo of my family vacation in chicage. In front of the Bean sculpture in Chicago. In august of 2017.I was with my wife Jocelyne, and two daughters, Emilie and Alexia.It shows our family having fun on vacation together. Also it is kind of artistic with the reflection in the Bean. \n",
      "Similarity Score: 0.410833477973938\n",
      "\n",
      "Sentence 1: This is a photo of our winter vacation bicycle trip. In the backcountry of Cerdanya, in the Pyrenean.This winter.I was with my wife Inès and my friend Pierre.I like to go bicycle touring out of the city to discover new places.\n",
      "Sentence 2: This is a photo of the sacred Garan area on Mount Koyasan in Japan. In the Garan area on Mount Koyasan.One year ago, in January 2019. I was by myself, but there was the spirit of Kobo-Daishi Kukai. Koyasan is a sacred mountain with a 20km pilgrimage trail, and temples where pilgrims can stay.I enjoy Koyasan and this picture reminds me of it. \n",
      "Similarity Score: 0.3379511833190918\n",
      "\n",
      "Sentence 1: This is a photo of our winter vacation bicycle trip. In the backcountry of Cerdanya, in the Pyrenean.This winter.I was with my wife Inès and my friend Pierre.I like to go bicycle touring out of the city to discover new places.\n",
      "Sentence 2: This is a photo of the Austin marathon. In Austin texas, after my brother and I finished the marathon together. In spring of 2014. My brother Doug.It was a great experience to run this marathon together with my brother. \n",
      "Similarity Score: 0.29469114542007446\n",
      "\n",
      "Sentence 1: This is a photo of our winter vacation bicycle trip. In the backcountry of Cerdanya, in the Pyrenean.This winter.I was with my wife Inès and my friend Pierre.I like to go bicycle touring out of the city to discover new places.\n",
      "Sentence 2: This is a photo of me and my family on vacation together. in New York City. In august of 2014. My family, with my wife Jocelyne, and our two daughters Emilie and Alexia. New York is like the Paris of the United States, and it was a great trip for us together there, feeling the great vibrations of this frantic city. \n",
      "Similarity Score: 0.4970764219760895\n",
      "\n",
      "Sentence 1: This is a photo of the plants I grow at home. In my apartment. In 2021.Nobody.Taking care of plants relaxes me, helps me to focus.I’m very interested in how they grow and thrive when given just a tiny amount of soil, air and water. \n",
      "Sentence 2: This is a photo of our summer vacation bicycle trip. On a ferry boat on the Seine river.Last summer.I was with my wife Jocelyne, and two daughters, Emilie and Alexia.I have always wanted to go bicycle touring with my family, and this is a picture of that. \n",
      "Similarity Score: 0.23391911387443542\n",
      "\n",
      "Sentence 1: This is a photo of the plants I grow at home. In my apartment. In 2021.Nobody.Taking care of plants relaxes me, helps me to focus.I’m very interested in how they grow and thrive when given just a tiny amount of soil, air and water. \n",
      "Sentence 2: This is a photo of my family vacation in chicage. In front of the Bean sculpture in Chicago. In august of 2017.I was with my wife Jocelyne, and two daughters, Emilie and Alexia.It shows our family having fun on vacation together. Also it is kind of artistic with the reflection in the Bean. \n",
      "Similarity Score: 0.4067777991294861\n",
      "\n",
      "Sentence 1: This is a photo of the plants I grow at home. In my apartment. In 2021.Nobody.Taking care of plants relaxes me, helps me to focus.I’m very interested in how they grow and thrive when given just a tiny amount of soil, air and water. \n",
      "Sentence 2: This is a photo of the sacred Garan area on Mount Koyasan in Japan. In the Garan area on Mount Koyasan.One year ago, in January 2019. I was by myself, but there was the spirit of Kobo-Daishi Kukai. Koyasan is a sacred mountain with a 20km pilgrimage trail, and temples where pilgrims can stay.I enjoy Koyasan and this picture reminds me of it. \n",
      "Similarity Score: 0.33276134729385376\n",
      "\n",
      "Sentence 1: This is a photo of the plants I grow at home. In my apartment. In 2021.Nobody.Taking care of plants relaxes me, helps me to focus.I’m very interested in how they grow and thrive when given just a tiny amount of soil, air and water. \n",
      "Sentence 2: This is a photo of the Austin marathon. In Austin texas, after my brother and I finished the marathon together. In spring of 2014. My brother Doug.It was a great experience to run this marathon together with my brother. \n",
      "Similarity Score: 0.2170955091714859\n",
      "\n",
      "Sentence 1: This is a photo of the plants I grow at home. In my apartment. In 2021.Nobody.Taking care of plants relaxes me, helps me to focus.I’m very interested in how they grow and thrive when given just a tiny amount of soil, air and water. \n",
      "Sentence 2: This is a photo of me and my family on vacation together. in New York City. In august of 2014. My family, with my wife Jocelyne, and our two daughters Emilie and Alexia. New York is like the Paris of the United States, and it was a great trip for us together there, feeling the great vibrations of this frantic city. \n",
      "Similarity Score: 0.2967377305030823\n",
      "\n",
      "Sentence 1: This is a photo of the fountain in the Borely Park, close to my place.In the Borely Park, Marseille. In 2021. I was alone, during one of my running sessions. The fountain is back to normal after a long shut down for maintenance.It make this place enchanting. \n",
      "Sentence 2: This is a photo of our summer vacation bicycle trip. On a ferry boat on the Seine river.Last summer.I was with my wife Jocelyne, and two daughters, Emilie and Alexia.I have always wanted to go bicycle touring with my family, and this is a picture of that. \n",
      "Similarity Score: 0.3526155948638916\n",
      "\n",
      "Sentence 1: This is a photo of the fountain in the Borely Park, close to my place.In the Borely Park, Marseille. In 2021. I was alone, during one of my running sessions. The fountain is back to normal after a long shut down for maintenance.It make this place enchanting. \n",
      "Sentence 2: This is a photo of my family vacation in chicage. In front of the Bean sculpture in Chicago. In august of 2017.I was with my wife Jocelyne, and two daughters, Emilie and Alexia.It shows our family having fun on vacation together. Also it is kind of artistic with the reflection in the Bean. \n",
      "Similarity Score: 0.3891482353210449\n",
      "\n",
      "Sentence 1: This is a photo of the fountain in the Borely Park, close to my place.In the Borely Park, Marseille. In 2021. I was alone, during one of my running sessions. The fountain is back to normal after a long shut down for maintenance.It make this place enchanting. \n",
      "Sentence 2: This is a photo of the sacred Garan area on Mount Koyasan in Japan. In the Garan area on Mount Koyasan.One year ago, in January 2019. I was by myself, but there was the spirit of Kobo-Daishi Kukai. Koyasan is a sacred mountain with a 20km pilgrimage trail, and temples where pilgrims can stay.I enjoy Koyasan and this picture reminds me of it. \n",
      "Similarity Score: 0.42443111538887024\n",
      "\n",
      "Sentence 1: This is a photo of the fountain in the Borely Park, close to my place.In the Borely Park, Marseille. In 2021. I was alone, during one of my running sessions. The fountain is back to normal after a long shut down for maintenance.It make this place enchanting. \n",
      "Sentence 2: This is a photo of the Austin marathon. In Austin texas, after my brother and I finished the marathon together. In spring of 2014. My brother Doug.It was a great experience to run this marathon together with my brother. \n",
      "Similarity Score: 0.40109074115753174\n",
      "\n",
      "Sentence 1: This is a photo of the fountain in the Borely Park, close to my place.In the Borely Park, Marseille. In 2021. I was alone, during one of my running sessions. The fountain is back to normal after a long shut down for maintenance.It make this place enchanting. \n",
      "Sentence 2: This is a photo of me and my family on vacation together. in New York City. In august of 2014. My family, with my wife Jocelyne, and our two daughters Emilie and Alexia. New York is like the Paris of the United States, and it was a great trip for us together there, feeling the great vibrations of this frantic city. \n",
      "Similarity Score: 0.37953221797943115\n",
      "\n",
      "Sentence 1: This is a photo of lake of Annecy during the winter. In Annecy. Novembre 2021. My wife Inès.It was a great experience to bicycle around this lake in a cold winter. \n",
      "Sentence 2: This is a photo of our summer vacation bicycle trip. On a ferry boat on the Seine river.Last summer.I was with my wife Jocelyne, and two daughters, Emilie and Alexia.I have always wanted to go bicycle touring with my family, and this is a picture of that. \n",
      "Similarity Score: 0.6677084565162659\n",
      "\n",
      "Sentence 1: This is a photo of lake of Annecy during the winter. In Annecy. Novembre 2021. My wife Inès.It was a great experience to bicycle around this lake in a cold winter. \n",
      "Sentence 2: This is a photo of my family vacation in chicage. In front of the Bean sculpture in Chicago. In august of 2017.I was with my wife Jocelyne, and two daughters, Emilie and Alexia.It shows our family having fun on vacation together. Also it is kind of artistic with the reflection in the Bean. \n",
      "Similarity Score: 0.4001721143722534\n",
      "\n",
      "Sentence 1: This is a photo of lake of Annecy during the winter. In Annecy. Novembre 2021. My wife Inès.It was a great experience to bicycle around this lake in a cold winter. \n",
      "Sentence 2: This is a photo of the sacred Garan area on Mount Koyasan in Japan. In the Garan area on Mount Koyasan.One year ago, in January 2019. I was by myself, but there was the spirit of Kobo-Daishi Kukai. Koyasan is a sacred mountain with a 20km pilgrimage trail, and temples where pilgrims can stay.I enjoy Koyasan and this picture reminds me of it. \n",
      "Similarity Score: 0.372219443321228\n",
      "\n",
      "Sentence 1: This is a photo of lake of Annecy during the winter. In Annecy. Novembre 2021. My wife Inès.It was a great experience to bicycle around this lake in a cold winter. \n",
      "Sentence 2: This is a photo of the Austin marathon. In Austin texas, after my brother and I finished the marathon together. In spring of 2014. My brother Doug.It was a great experience to run this marathon together with my brother. \n",
      "Similarity Score: 0.25315916538238525\n",
      "\n",
      "Sentence 1: This is a photo of lake of Annecy during the winter. In Annecy. Novembre 2021. My wife Inès.It was a great experience to bicycle around this lake in a cold winter. \n",
      "Sentence 2: This is a photo of me and my family on vacation together. in New York City. In august of 2014. My family, with my wife Jocelyne, and our two daughters Emilie and Alexia. New York is like the Paris of the United States, and it was a great trip for us together there, feeling the great vibrations of this frantic city. \n",
      "Similarity Score: 0.43617963790893555\n",
      "\n",
      "Sentence 1: This is a photo of the Parc National des Calanques. In Marseille. In 2019. My friends. This National Park is a wonderful place, exceptionally wild and still in the city of Marseille.The sea is beautiful there..\n",
      "Sentence 2: This is a photo of our summer vacation bicycle trip. On a ferry boat on the Seine river.Last summer.I was with my wife Jocelyne, and two daughters, Emilie and Alexia.I have always wanted to go bicycle touring with my family, and this is a picture of that. \n",
      "Similarity Score: 0.31336748600006104\n",
      "\n",
      "Sentence 1: This is a photo of the Parc National des Calanques. In Marseille. In 2019. My friends. This National Park is a wonderful place, exceptionally wild and still in the city of Marseille.The sea is beautiful there..\n",
      "Sentence 2: This is a photo of my family vacation in chicage. In front of the Bean sculpture in Chicago. In august of 2017.I was with my wife Jocelyne, and two daughters, Emilie and Alexia.It shows our family having fun on vacation together. Also it is kind of artistic with the reflection in the Bean. \n",
      "Similarity Score: 0.28048813343048096\n",
      "\n",
      "Sentence 1: This is a photo of the Parc National des Calanques. In Marseille. In 2019. My friends. This National Park is a wonderful place, exceptionally wild and still in the city of Marseille.The sea is beautiful there..\n",
      "Sentence 2: This is a photo of the sacred Garan area on Mount Koyasan in Japan. In the Garan area on Mount Koyasan.One year ago, in January 2019. I was by myself, but there was the spirit of Kobo-Daishi Kukai. Koyasan is a sacred mountain with a 20km pilgrimage trail, and temples where pilgrims can stay.I enjoy Koyasan and this picture reminds me of it. \n",
      "Similarity Score: 0.39095234870910645\n",
      "\n",
      "Sentence 1: This is a photo of the Parc National des Calanques. In Marseille. In 2019. My friends. This National Park is a wonderful place, exceptionally wild and still in the city of Marseille.The sea is beautiful there..\n",
      "Sentence 2: This is a photo of the Austin marathon. In Austin texas, after my brother and I finished the marathon together. In spring of 2014. My brother Doug.It was a great experience to run this marathon together with my brother. \n",
      "Similarity Score: 0.34313148260116577\n",
      "\n",
      "Sentence 1: This is a photo of the Parc National des Calanques. In Marseille. In 2019. My friends. This National Park is a wonderful place, exceptionally wild and still in the city of Marseille.The sea is beautiful there..\n",
      "Sentence 2: This is a photo of me and my family on vacation together. in New York City. In august of 2014. My family, with my wife Jocelyne, and our two daughters Emilie and Alexia. New York is like the Paris of the United States, and it was a great trip for us together there, feeling the great vibrations of this frantic city. \n",
      "Similarity Score: 0.3496144413948059\n",
      "\n"
     ]
    }
   ],
   "source": [
    "sentences1 = df.situation_text[df.name == 'louis'].tolist()\n",
    "sentences2 = df.situation_text[df.name == 'peter'].tolist()\n",
    "\n",
    "# encode list of sentences to get their embeddings\n",
    "embedding1 = model.encode(sentences1, convert_to_tensor=True)\n",
    "embedding2 = model.encode(sentences2, convert_to_tensor=True)\n",
    "\n",
    "# compute similarity scores of two embeddings\n",
    "cosine_scores = util.pytorch_cos_sim(embedding1, embedding2)\n",
    "\n",
    "for i in range(len(sentences1)):\n",
    "    for j in range(len(sentences2)):\n",
    "        print(\"Sentence 1:\", sentences1[i])\n",
    "        print(\"Sentence 2:\", sentences2[j])\n",
    "        print(\"Similarity Score:\", cosine_scores[i][j].item())\n",
    "        print()"
   ]
  },
  {
   "cell_type": "markdown",
   "metadata": {},
   "source": [
    "## Create a text similarity matrix"
   ]
  },
  {
   "cell_type": "code",
   "execution_count": 49,
   "metadata": {},
   "outputs": [],
   "source": [
    "# List of sentences from the collected data from users 'louis' and 'peter'\n",
    "list_of_paragraphs = df.situation_text.tolist()"
   ]
  },
  {
   "cell_type": "code",
   "execution_count": 51,
   "metadata": {},
   "outputs": [],
   "source": [
    "embeddings = np.empty([10,512])\n",
    "sim_matrix = np.empty([10,10])"
   ]
  },
  {
   "cell_type": "markdown",
   "metadata": {},
   "source": [
    "### Get the embeddings"
   ]
  },
  {
   "cell_type": "code",
   "execution_count": 52,
   "metadata": {},
   "outputs": [],
   "source": [
    "for i in range(len(list_of_paragraphs)):\n",
    "    #print(list_of_paragraphs[i])\n",
    "    sentence_embedding = model.encode(list_of_paragraphs[i], convert_to_tensor=True)\n",
    "    embeddings[i] = sentence_embedding"
   ]
  },
  {
   "cell_type": "markdown",
   "metadata": {},
   "source": [
    "### Calculate the similarity "
   ]
  },
  {
   "cell_type": "code",
   "execution_count": 53,
   "metadata": {},
   "outputs": [],
   "source": [
    "for i in range(len(list_of_paragraphs)):\n",
    "    for j in range(len(list_of_paragraphs)):\n",
    "        sim_matrix[i,j]=cosine_similarity([embeddings[i],embeddings[j]])[0,1]\n",
    "    "
   ]
  },
  {
   "cell_type": "markdown",
   "metadata": {},
   "source": [
    "### Plot the similarity"
   ]
  },
  {
   "cell_type": "code",
   "execution_count": 54,
   "metadata": {},
   "outputs": [
    {
     "data": {
      "text/plain": [
       "<function matplotlib.pyplot.show(close=None, block=None)>"
      ]
     },
     "execution_count": 54,
     "metadata": {},
     "output_type": "execute_result"
    },
    {
     "data": {
      "image/png": "[encoded data removed]",
      "text/plain": [
       "<Figure size 432x288 with 2 Axes>"
      ]
     },
     "metadata": {
      "needs_background": "light"
     },
     "output_type": "display_data"
    }
   ],
   "source": [
    "plt.imshow(sim_matrix,cmap=\"hot\")\n",
    "plt.colorbar()\n",
    "plt.show"
   ]
  },
  {
   "cell_type": "markdown",
   "metadata": {},
   "source": [
    "### Next steps :\n",
    "* find trajectory in matrix to visit different similar photo pairs\n",
    "* present sequence in a coheret interaction scenario\n",
    "* use french language"
   ]
  },
  {
   "cell_type": "markdown",
   "metadata": {},
   "source": []
  }
 ],
 "metadata": {
  "kernelspec": {
   "display_name": "Python 3",
   "language": "python",
   "name": "python3"
  },
  "language_info": {
   "codemirror_mode": {
    "name": "ipython",
    "version": 3
   },
   "file_extension": ".py",
   "mimetype": "text/x-python",
   "name": "python",
   "nbconvert_exporter": "python",
   "pygments_lexer": "ipython3",
   "version": "3.8.5"
  }
 },
 "nbformat": 4,
 "nbformat_minor": 4
}
