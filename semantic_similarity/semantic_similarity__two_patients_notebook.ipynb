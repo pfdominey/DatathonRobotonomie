{
 "cells": [
  {
   "cell_type": "markdown",
   "metadata": {},
   "source": [
    "## Import Library"
   ]
  },
  {
   "cell_type": "code",
   "execution_count": 1,
   "metadata": {},
   "outputs": [],
   "source": [
    "#pip install sentence-transformers\n",
    "from sentence_transformers import SentenceTransformer, util\n",
    "import numpy as np\n",
    "import matplotlib.pyplot as plt\n",
    "from sklearn.metrics.pairwise import cosine_similarity"
   ]
  },
  {
   "cell_type": "markdown",
   "metadata": {},
   "source": [
    "## Model Selection and Initialization"
   ]
  },
  {
   "cell_type": "code",
   "execution_count": 2,
   "metadata": {},
   "outputs": [],
   "source": [
    "# List of models optimized for semantic textual similarity can be found at:\n",
    "# https://docs.google.com/spreadsheets/d/14QplCdTCDwEmTqrn1LH4yrbKvdogK4oQvYO1K1aPR5M/edit#gid=0\n",
    "#distiluse-base-multilingual-cased-v1\n",
    "#model = SentenceTransformer('stsb-roberta-large')\n",
    "#https://www.sbert.net/docs/pretrained_models.html\n",
    "model = SentenceTransformer('distiluse-base-multilingual-cased-v1')"
   ]
  },
  {
   "cell_type": "code",
   "execution_count": 72,
   "metadata": {},
   "outputs": [],
   "source": [
    "#library for reading folders and files:\n",
    "import os\n",
    "#library for creating dataframes:\n",
    "import pandas as pd"
   ]
  },
  {
   "cell_type": "code",
   "execution_count": 201,
   "metadata": {},
   "outputs": [],
   "source": [
    "#set the directory\n",
    "image_directory = 'data_test/'"
   ]
  },
  {
   "cell_type": "code",
   "execution_count": 290,
   "metadata": {},
   "outputs": [],
   "source": [
    "#read patients folders names and store them in a list\n",
    "patient_names = os.listdir(image_directory)"
   ]
  },
  {
   "cell_type": "code",
   "execution_count": 291,
   "metadata": {},
   "outputs": [
    {
     "name": "stdout",
     "output_type": "stream",
     "text": [
      "['LOUIS', 'PETER', 'VINCENT']\n"
     ]
    }
   ],
   "source": [
    "print(patient_names)"
   ]
  },
  {
   "cell_type": "code",
   "execution_count": 292,
   "metadata": {},
   "outputs": [],
   "source": [
    "#create 3 empty lists to keep patients data\n",
    "descriptions = []\n",
    "photo_names = []\n",
    "photo_titles = []\n",
    "\n",
    "\n",
    "#run through the folders and parse the file names. store accordingly into each list. \n",
    "for patient_name in patient_names:\n",
    "    dir_files = os.listdir(image_directory+patient_name)\n",
    "    temp_list = []\n",
    "    temp_list_photos = []\n",
    "    temp_list_titles = []\n",
    "    for dir_file in dir_files:\n",
    "        if (dir_file.split('_')[1]==\"photo\"):\n",
    "            #print(dir_file)\n",
    "            if(dir_file.split('_')[3]==\"text.txt\"):\n",
    "                #print(dir_file)\n",
    "                desc = open(image_directory+patient_name+\"/\"+dir_file, encoding='utf-8').read().rstrip('\\n')\n",
    "                temp_list.append(desc)\n",
    "            elif(dir_file.split('_')[3]==\"image.png\"):\n",
    "                temp_list_photos.append(dir_file)\n",
    "            elif(dir_file.split('_')[3]==\"title.txt\"):\n",
    "                title = open(image_directory+patient_name+\"/\"+dir_file, encoding='utf-8').read().rstrip('\\n')\n",
    "                temp_list_titles.append(title)                             \n",
    "                \n",
    "    descriptions.append(temp_list)\n",
    "    photo_names.append(temp_list_photos)\n",
    "    photo_titles.append(temp_list_titles)\n",
    "            "
   ]
  },
  {
   "cell_type": "markdown",
   "metadata": {},
   "source": [
    "### Create dataframes to store and get data more easily"
   ]
  },
  {
   "cell_type": "code",
   "execution_count": 294,
   "metadata": {},
   "outputs": [
    {
     "data": {
      "text/html": [
       "<div>\n",
       "<style scoped>\n",
       "    .dataframe tbody tr th:only-of-type {\n",
       "        vertical-align: middle;\n",
       "    }\n",
       "\n",
       "    .dataframe tbody tr th {\n",
       "        vertical-align: top;\n",
       "    }\n",
       "\n",
       "    .dataframe thead th {\n",
       "        text-align: right;\n",
       "    }\n",
       "</style>\n",
       "<table border=\"1\" class=\"dataframe\">\n",
       "  <thead>\n",
       "    <tr style=\"text-align: right;\">\n",
       "      <th></th>\n",
       "      <th>LOUIS</th>\n",
       "      <th>PETER</th>\n",
       "      <th>VINCENT</th>\n",
       "    </tr>\n",
       "  </thead>\n",
       "  <tbody>\n",
       "    <tr>\n",
       "      <th>0</th>\n",
       "      <td>LOUIS_photo_10_image.png</td>\n",
       "      <td>PETER_photo_1_image.png</td>\n",
       "      <td>VINCENT_photo_1_image.png</td>\n",
       "    </tr>\n",
       "    <tr>\n",
       "      <th>1</th>\n",
       "      <td>LOUIS_photo_1_image.png</td>\n",
       "      <td>PETER_photo_2_image.png</td>\n",
       "      <td>VINCENT_photo_2_image.png</td>\n",
       "    </tr>\n",
       "    <tr>\n",
       "      <th>2</th>\n",
       "      <td>LOUIS_photo_2_image.png</td>\n",
       "      <td>PETER_photo_3_image.png</td>\n",
       "      <td>VINCENT_photo_3_image.png</td>\n",
       "    </tr>\n",
       "    <tr>\n",
       "      <th>3</th>\n",
       "      <td>LOUIS_photo_3_image.png</td>\n",
       "      <td>PETER_photo_4_image.png</td>\n",
       "      <td>VINCENT_photo_4_image.png</td>\n",
       "    </tr>\n",
       "    <tr>\n",
       "      <th>4</th>\n",
       "      <td>LOUIS_photo_4_image.png</td>\n",
       "      <td>PETER_photo_5_image.png</td>\n",
       "      <td>VINCENT_photo_5_image.png</td>\n",
       "    </tr>\n",
       "    <tr>\n",
       "      <th>5</th>\n",
       "      <td>LOUIS_photo_5_image.png</td>\n",
       "      <td>None</td>\n",
       "      <td>VINCENT_photo_6_image.png</td>\n",
       "    </tr>\n",
       "    <tr>\n",
       "      <th>6</th>\n",
       "      <td>LOUIS_photo_6_image.png</td>\n",
       "      <td>None</td>\n",
       "      <td>VINCENT_photo_7_image.png</td>\n",
       "    </tr>\n",
       "    <tr>\n",
       "      <th>7</th>\n",
       "      <td>LOUIS_photo_7_image.png</td>\n",
       "      <td>None</td>\n",
       "      <td>VINCENT_photo_8_image.png</td>\n",
       "    </tr>\n",
       "    <tr>\n",
       "      <th>8</th>\n",
       "      <td>LOUIS_photo_8_image.png</td>\n",
       "      <td>None</td>\n",
       "      <td>None</td>\n",
       "    </tr>\n",
       "    <tr>\n",
       "      <th>9</th>\n",
       "      <td>LOUIS_photo_9_image.png</td>\n",
       "      <td>None</td>\n",
       "      <td>None</td>\n",
       "    </tr>\n",
       "  </tbody>\n",
       "</table>\n",
       "</div>"
      ],
      "text/plain": [
       "                      LOUIS                    PETER  \\\n",
       "0  LOUIS_photo_10_image.png  PETER_photo_1_image.png   \n",
       "1   LOUIS_photo_1_image.png  PETER_photo_2_image.png   \n",
       "2   LOUIS_photo_2_image.png  PETER_photo_3_image.png   \n",
       "3   LOUIS_photo_3_image.png  PETER_photo_4_image.png   \n",
       "4   LOUIS_photo_4_image.png  PETER_photo_5_image.png   \n",
       "5   LOUIS_photo_5_image.png                     None   \n",
       "6   LOUIS_photo_6_image.png                     None   \n",
       "7   LOUIS_photo_7_image.png                     None   \n",
       "8   LOUIS_photo_8_image.png                     None   \n",
       "9   LOUIS_photo_9_image.png                     None   \n",
       "\n",
       "                     VINCENT  \n",
       "0  VINCENT_photo_1_image.png  \n",
       "1  VINCENT_photo_2_image.png  \n",
       "2  VINCENT_photo_3_image.png  \n",
       "3  VINCENT_photo_4_image.png  \n",
       "4  VINCENT_photo_5_image.png  \n",
       "5  VINCENT_photo_6_image.png  \n",
       "6  VINCENT_photo_7_image.png  \n",
       "7  VINCENT_photo_8_image.png  \n",
       "8                       None  \n",
       "9                       None  "
      ]
     },
     "execution_count": 294,
     "metadata": {},
     "output_type": "execute_result"
    }
   ],
   "source": [
    "#dataframe where images paths are stored:\n",
    "df_photos = pd.DataFrame(photo_names).transpose()\n",
    "df_photos.columns = patient_names\n",
    "df_photos"
   ]
  },
  {
   "cell_type": "code",
   "execution_count": 295,
   "metadata": {},
   "outputs": [
    {
     "data": {
      "text/html": [
       "<div>\n",
       "<style scoped>\n",
       "    .dataframe tbody tr th:only-of-type {\n",
       "        vertical-align: middle;\n",
       "    }\n",
       "\n",
       "    .dataframe tbody tr th {\n",
       "        vertical-align: top;\n",
       "    }\n",
       "\n",
       "    .dataframe thead th {\n",
       "        text-align: right;\n",
       "    }\n",
       "</style>\n",
       "<table border=\"1\" class=\"dataframe\">\n",
       "  <thead>\n",
       "    <tr style=\"text-align: right;\">\n",
       "      <th></th>\n",
       "      <th>LOUIS</th>\n",
       "      <th>PETER</th>\n",
       "      <th>VINCENT</th>\n",
       "    </tr>\n",
       "  </thead>\n",
       "  <tbody>\n",
       "    <tr>\n",
       "      <th>0</th>\n",
       "      <td>santorin</td>\n",
       "      <td>Bike-trip</td>\n",
       "      <td>bruxelles</td>\n",
       "    </tr>\n",
       "    <tr>\n",
       "      <th>1</th>\n",
       "      <td>annecy</td>\n",
       "      <td>Chicago</td>\n",
       "      <td>chat</td>\n",
       "    </tr>\n",
       "    <tr>\n",
       "      <th>2</th>\n",
       "      <td>borely</td>\n",
       "      <td>Koyasan</td>\n",
       "      <td>Géant du Nord</td>\n",
       "    </tr>\n",
       "    <tr>\n",
       "      <th>3</th>\n",
       "      <td>calanques</td>\n",
       "      <td>Marathon</td>\n",
       "      <td>Gorges du Verdon</td>\n",
       "    </tr>\n",
       "    <tr>\n",
       "      <th>4</th>\n",
       "      <td>cerdanya</td>\n",
       "      <td>New York</td>\n",
       "      <td>Haut Doubs</td>\n",
       "    </tr>\n",
       "    <tr>\n",
       "      <th>5</th>\n",
       "      <td>draguignan</td>\n",
       "      <td>None</td>\n",
       "      <td>Ile d'Oléron</td>\n",
       "    </tr>\n",
       "    <tr>\n",
       "      <th>6</th>\n",
       "      <td>koons</td>\n",
       "      <td>None</td>\n",
       "      <td>Mer du Nord</td>\n",
       "    </tr>\n",
       "    <tr>\n",
       "      <th>7</th>\n",
       "      <td>montauban</td>\n",
       "      <td>None</td>\n",
       "      <td>Mölkky</td>\n",
       "    </tr>\n",
       "    <tr>\n",
       "      <th>8</th>\n",
       "      <td>lac de payolle</td>\n",
       "      <td>None</td>\n",
       "      <td>None</td>\n",
       "    </tr>\n",
       "    <tr>\n",
       "      <th>9</th>\n",
       "      <td>plantes de mon appartement</td>\n",
       "      <td>None</td>\n",
       "      <td>None</td>\n",
       "    </tr>\n",
       "  </tbody>\n",
       "</table>\n",
       "</div>"
      ],
      "text/plain": [
       "                        LOUIS      PETER           VINCENT\n",
       "0                    santorin  Bike-trip         bruxelles\n",
       "1                      annecy    Chicago              chat\n",
       "2                      borely    Koyasan     Géant du Nord\n",
       "3                   calanques   Marathon  Gorges du Verdon\n",
       "4                    cerdanya   New York        Haut Doubs\n",
       "5                  draguignan       None      Ile d'Oléron\n",
       "6                       koons       None       Mer du Nord\n",
       "7                   montauban       None            Mölkky\n",
       "8              lac de payolle       None              None\n",
       "9  plantes de mon appartement       None              None"
      ]
     },
     "execution_count": 295,
     "metadata": {},
     "output_type": "execute_result"
    }
   ],
   "source": [
    "#dataframe where images titles are stored\n",
    "df_titles = pd.DataFrame(photo_titles).transpose()\n",
    "df_titles.columns = patient_names\n",
    "df_titles"
   ]
  },
  {
   "cell_type": "code",
   "execution_count": 297,
   "metadata": {},
   "outputs": [
    {
     "data": {
      "text/html": [
       "<div>\n",
       "<style scoped>\n",
       "    .dataframe tbody tr th:only-of-type {\n",
       "        vertical-align: middle;\n",
       "    }\n",
       "\n",
       "    .dataframe tbody tr th {\n",
       "        vertical-align: top;\n",
       "    }\n",
       "\n",
       "    .dataframe thead th {\n",
       "        text-align: right;\n",
       "    }\n",
       "</style>\n",
       "<table border=\"1\" class=\"dataframe\">\n",
       "  <thead>\n",
       "    <tr style=\"text-align: right;\">\n",
       "      <th></th>\n",
       "      <th>LOUIS</th>\n",
       "      <th>PETER</th>\n",
       "      <th>VINCENT</th>\n",
       "    </tr>\n",
       "  </thead>\n",
       "  <tbody>\n",
       "    <tr>\n",
       "      <th>0</th>\n",
       "      <td>Voici une photo de la ville principale de Sant...</td>\n",
       "      <td>This is a photo of our summer vacation bicycle...</td>\n",
       "      <td>La viste de la Grand-Place de Bruxelles a perm...</td>\n",
       "    </tr>\n",
       "    <tr>\n",
       "      <th>1</th>\n",
       "      <td>C'est une photo du lac d'Annecy pendant l'hive...</td>\n",
       "      <td>This is a photo of my family on vacation in ch...</td>\n",
       "      <td>Cette photo représente mon chat . Elle s’appel...</td>\n",
       "    </tr>\n",
       "    <tr>\n",
       "      <th>2</th>\n",
       "      <td>Voici une photo de la fontaine du parc Borely,...</td>\n",
       "      <td>This is a photo of the sacred Garan area on Mo...</td>\n",
       "      <td>Cette photo a été prise en août 2021 à Bergues...</td>\n",
       "    </tr>\n",
       "    <tr>\n",
       "      <th>3</th>\n",
       "      <td>C'est une photo du Parc National des Calanques...</td>\n",
       "      <td>This is a photo of the Austin marathon on spri...</td>\n",
       "      <td>Les gorges du Verdon en juillet 2021 se rempli...</td>\n",
       "    </tr>\n",
       "    <tr>\n",
       "      <th>4</th>\n",
       "      <td>Voici une photo de nos vacances d'hiver à vélo...</td>\n",
       "      <td>This is a photo of me and my family on vacatio...</td>\n",
       "      <td>Cette photo a été prise à Arc Sous Cicon dans ...</td>\n",
       "    </tr>\n",
       "    <tr>\n",
       "      <th>5</th>\n",
       "      <td>\\nC'est une chute d'eau dans le sud-est de la ...</td>\n",
       "      <td>None</td>\n",
       "      <td>L'île d'Oléron est déserte en dehors de la pér...</td>\n",
       "    </tr>\n",
       "    <tr>\n",
       "      <th>6</th>\n",
       "      <td>C'est une photo de l'exposition Koons au musée...</td>\n",
       "      <td>None</td>\n",
       "      <td>Lors d’un séjour en Belgique, en août 2021, j’...</td>\n",
       "    </tr>\n",
       "    <tr>\n",
       "      <th>7</th>\n",
       "      <td>\\nC'est une photo de ma ville natale, où j'ai ...</td>\n",
       "      <td>None</td>\n",
       "      <td>A l’issue d’un repas familial au printemps 202...</td>\n",
       "    </tr>\n",
       "    <tr>\n",
       "      <th>8</th>\n",
       "      <td>C'est une photo du sentier autour du lac de Pa...</td>\n",
       "      <td>None</td>\n",
       "      <td>None</td>\n",
       "    </tr>\n",
       "    <tr>\n",
       "      <th>9</th>\n",
       "      <td>Voici une photo des plantes que je cultive à l...</td>\n",
       "      <td>None</td>\n",
       "      <td>None</td>\n",
       "    </tr>\n",
       "  </tbody>\n",
       "</table>\n",
       "</div>"
      ],
      "text/plain": [
       "                                               LOUIS  \\\n",
       "0  Voici une photo de la ville principale de Sant...   \n",
       "1  C'est une photo du lac d'Annecy pendant l'hive...   \n",
       "2  Voici une photo de la fontaine du parc Borely,...   \n",
       "3  C'est une photo du Parc National des Calanques...   \n",
       "4  Voici une photo de nos vacances d'hiver à vélo...   \n",
       "5  \\nC'est une chute d'eau dans le sud-est de la ...   \n",
       "6  C'est une photo de l'exposition Koons au musée...   \n",
       "7  \\nC'est une photo de ma ville natale, où j'ai ...   \n",
       "8  C'est une photo du sentier autour du lac de Pa...   \n",
       "9  Voici une photo des plantes que je cultive à l...   \n",
       "\n",
       "                                               PETER  \\\n",
       "0  This is a photo of our summer vacation bicycle...   \n",
       "1  This is a photo of my family on vacation in ch...   \n",
       "2  This is a photo of the sacred Garan area on Mo...   \n",
       "3  This is a photo of the Austin marathon on spri...   \n",
       "4  This is a photo of me and my family on vacatio...   \n",
       "5                                               None   \n",
       "6                                               None   \n",
       "7                                               None   \n",
       "8                                               None   \n",
       "9                                               None   \n",
       "\n",
       "                                             VINCENT  \n",
       "0  La viste de la Grand-Place de Bruxelles a perm...  \n",
       "1  Cette photo représente mon chat . Elle s’appel...  \n",
       "2  Cette photo a été prise en août 2021 à Bergues...  \n",
       "3  Les gorges du Verdon en juillet 2021 se rempli...  \n",
       "4  Cette photo a été prise à Arc Sous Cicon dans ...  \n",
       "5  L'île d'Oléron est déserte en dehors de la pér...  \n",
       "6  Lors d’un séjour en Belgique, en août 2021, j’...  \n",
       "7  A l’issue d’un repas familial au printemps 202...  \n",
       "8                                               None  \n",
       "9                                               None  "
      ]
     },
     "execution_count": 297,
     "metadata": {},
     "output_type": "execute_result"
    }
   ],
   "source": [
    "#dataframes where images texts are stored\n",
    "df_texts = pd.DataFrame(descriptions).transpose()\n",
    "df_texts.columns = patient_names\n",
    "df_texts"
   ]
  },
  {
   "cell_type": "markdown",
   "metadata": {},
   "source": [
    "### similarity matrix between patient_1 and patient_2"
   ]
  },
  {
   "cell_type": "code",
   "execution_count": 284,
   "metadata": {},
   "outputs": [],
   "source": [
    "patient_1 = \"PETER\"\n",
    "patient_2 = \"VINCENT\""
   ]
  },
  {
   "cell_type": "code",
   "execution_count": 299,
   "metadata": {},
   "outputs": [],
   "source": [
    "#create empty arrays for text embeddings and similarity matrix\n",
    "embeddings_patient_1 = np.empty([df_texts[patient_1].dropna().size,512])\n",
    "embeddings_patient_2 = np.empty([df_texts[patient_2].dropna().size,512])\n",
    "sim_matrix = np.empty([10,10])"
   ]
  },
  {
   "cell_type": "code",
   "execution_count": 300,
   "metadata": {},
   "outputs": [],
   "source": [
    "#calculate the embeddings values for both patients columns\n",
    "for i in range(df_texts[patient_1].dropna().size):\n",
    "    sentence_embedding = model.encode(df_texts[patient_1].dropna().iloc[i], convert_to_tensor=True)\n",
    "    embeddings_patient_1[i] = sentence_embedding\n",
    "\n",
    "for i in range(df_texts[patient_2].dropna().size):\n",
    "    sentence_embedding = model.encode(df_texts[patient_2].dropna().iloc[i], convert_to_tensor=True)\n",
    "    embeddings_patient_2[i] = sentence_embedding"
   ]
  },
  {
   "cell_type": "code",
   "execution_count": 303,
   "metadata": {},
   "outputs": [],
   "source": [
    "#calculate the cosine similarity between the two embeddings\n",
    "for i in range(len(embeddings_patient_1)):\n",
    "    for j in range(len(embeddings_patient_2)):\n",
    "        sim_matrix[i,j]=cosine_similarity([embeddings_patient_1[i],embeddings_patient_2[j]])[0,1]\n",
    "    "
   ]
  },
  {
   "cell_type": "code",
   "execution_count": 304,
   "metadata": {
    "scrolled": true
   },
   "outputs": [
    {
     "data": {
      "text/plain": [
       "<function matplotlib.pyplot.show(close=None, block=None)>"
      ]
     },
     "execution_count": 304,
     "metadata": {},
     "output_type": "execute_result"
    },
    {
     "data": {
      "image/png": "[encoded data removed]",
      "text/plain": [
       "<Figure size 432x288 with 2 Axes>"
      ]
     },
     "metadata": {
      "needs_background": "light"
     },
     "output_type": "display_data"
    }
   ],
   "source": [
    "#plot the similarity matrix\n",
    "plt.imshow(sim_matrix,cmap=\"hot\")\n",
    "plt.colorbar()\n",
    "plt.show"
   ]
  },
  {
   "cell_type": "markdown",
   "metadata": {},
   "source": [
    "### get the highest similarity"
   ]
  },
  {
   "cell_type": "code",
   "execution_count": 305,
   "metadata": {
    "scrolled": true
   },
   "outputs": [
    {
     "name": "stdout",
     "output_type": "stream",
     "text": [
      "Description PETER : This is a photo of the sacred Garan area on Mount Koyasan in Japan.\n",
      "I took this photo in the Garan area on Mount Koyasan one year ago, in January 2019. I was by myself, but there was the spirit of Kobo-Daishi Kukai. Koyasan is a sacred mountain with a 20km pilgrimage trail, and temples where pilgrims can stay. I enjoy Koyasan and this picture reminds me of it.\n",
      "Description VINCENT : Cette photo a été prise à Arc Sous Cicon dans le Haut Doubs durant l'hiver 2022.La neige était au rendez-vous pour la pratique du ski de fond en famille. Les adeptes du skating cohabitent sur les pistes avec les accros du ski de fond alternatif. Du haut de ses 1150 mètres, le Crêt Monniot permet de découvrir au loin les contreforts des Alpes suisses sous un soleil généreux. Les températures négatives nocturnes ont permis de préserver le manteau neigeux jusque début mars alors que les premiers bourgeons aux arbres annoncent déjà l'arrivée du printemps.\n",
      "Similarity Score: 0.43735615661224514\n",
      "2\n",
      "4\n",
      "PETER_photo_3_image.png\n",
      "Koyasan\n",
      "VINCENT_photo_5_image.png\n",
      "Haut Doubs\n"
     ]
    }
   ],
   "source": [
    "# compute similarity scores of two embeddings\n",
    "cosine_scores = util.pytorch_cos_sim(embeddings_patient_1, embeddings_patient_2)\n",
    "\n",
    "#compare each text of patient_1 with each text of patient_2 then print the most similar\n",
    "for i in range(len(embeddings_patient_1)):\n",
    "    for j in range(len(embeddings_patient_2)):\n",
    "        if(cosine_scores[i][j].item() == cosine_scores.max().item()):\n",
    "            print(\"Description\", patient_1, \":\", df[patient_1].dropna().iloc[i])\n",
    "            print(\"Description\", patient_2, \":\", df[patient_2].dropna().iloc[j])\n",
    "            print(\"Similarity Score:\", cosine_scores[i][j].item())\n",
    "            #get the index of the two most sililar photos. Each dataframe normally has the same index.\n",
    "            index_1 = i\n",
    "            index_2 = j\n",
    "            \n",
    "print(index_1)\n",
    "print(index_2)\n",
    "\n",
    "#get the corresponding values for each index in the two other dataframes\n",
    "photo_file1 = df_photos[patient_1].dropna().iloc[index_1]\n",
    "photo_title1 = df_titles[patient_1].dropna().iloc[index_1]\n",
    "\n",
    "photo_file2 = df_photos[patient_2].dropna().iloc[index_2]\n",
    "photo_title2 = df_titles[patient_2].dropna().iloc[index_2]\n",
    "\n",
    "#print the values \n",
    "print(photo_file1)\n",
    "print(photo_title1)\n",
    "print(photo_file2)\n",
    "print(photo_title2)\n",
    "\n",
    "\n",
    "\n"
   ]
  },
  {
   "cell_type": "markdown",
   "metadata": {},
   "source": [
    "### previous version"
   ]
  },
  {
   "cell_type": "code",
   "execution_count": 94,
   "metadata": {},
   "outputs": [],
   "source": [
    "embeddings = np.empty([10,512])\n",
    "sim_matrix = np.empty([10,10])"
   ]
  },
  {
   "cell_type": "markdown",
   "metadata": {},
   "source": [
    "get the embeddings"
   ]
  },
  {
   "cell_type": "code",
   "execution_count": 6,
   "metadata": {},
   "outputs": [],
   "source": [
    "for i in range(len(list_of_paragraphs)):\n",
    "    #print(list_of_paragraphs[i])\n",
    "    sentence_embedding = model.encode(list_of_paragraphs[i], convert_to_tensor=True)\n",
    "    embeddings[i] = sentence_embedding\n",
    "    "
   ]
  },
  {
   "cell_type": "markdown",
   "metadata": {},
   "source": [
    "calculate the similarity"
   ]
  },
  {
   "cell_type": "code",
   "execution_count": 7,
   "metadata": {},
   "outputs": [],
   "source": [
    "for i in range(len(list_of_paragraphs)):\n",
    "    for j in range(len(list_of_paragraphs)):\n",
    "        sim_matrix[i,j]=cosine_similarity([embeddings[i],embeddings[j]])[0,1]\n",
    "    "
   ]
  },
  {
   "cell_type": "markdown",
   "metadata": {},
   "source": [
    "plot the similarity"
   ]
  },
  {
   "cell_type": "code",
   "execution_count": 8,
   "metadata": {},
   "outputs": [
    {
     "data": {
      "text/plain": [
       "<function matplotlib.pyplot.show(close=None, block=None)>"
      ]
     },
     "execution_count": 8,
     "metadata": {},
     "output_type": "execute_result"
    },
    {
     "data": {
      "image/png": "[encoded data removed]",
      "text/plain": [
       "<Figure size 432x288 with 2 Axes>"
      ]
     },
     "metadata": {
      "needs_background": "light"
     },
     "output_type": "display_data"
    }
   ],
   "source": [
    "plt.imshow(sim_matrix,cmap=\"hot\")\n",
    "plt.colorbar()\n",
    "plt.show"
   ]
  },
  {
   "cell_type": "markdown",
   "metadata": {},
   "source": [
    "* find trajectory in matrix to visit different similar photo pairs\n",
    "* present sequence in a coheret interaction scenario\n",
    "* use french language"
   ]
  },
  {
   "cell_type": "markdown",
   "metadata": {},
   "source": [
    "## Calculate semantic similarity between two sentences"
   ]
  },
  {
   "cell_type": "code",
   "execution_count": 288,
   "metadata": {},
   "outputs": [
    {
     "name": "stdout",
     "output_type": "stream",
     "text": [
      "Sentence 1: Jag tycker om att äta pannkakor. Vi gick lite i skogen när vi var på semester.\n",
      "Sentence 2: J'adore manger des chips et nager dans la mer. J'ai hâte d'être en vacances et de faire des promenades.\n",
      "Similarity score: 0.11038986593484879\n"
     ]
    }
   ],
   "source": [
    "sentence1 = \"Jag tycker om att äta pannkakor. Vi gick lite i skogen när vi var på semester.\"\n",
    "sentence2 = \"J'adore manger des chips et nager dans la mer. J'ai hâte d'être en vacances et de faire des promenades.\"\n",
    "\n",
    "# encode sentences to get their embeddings\n",
    "embedding1 = model.encode(sentence1, convert_to_tensor=True)\n",
    "embedding2 = model.encode(sentence2, convert_to_tensor=True)\n",
    "\n",
    "# compute similarity scores of two embeddings\n",
    "cosine_scores = util.pytorch_cos_sim(embedding1, embedding2)\n",
    "\n",
    "print(\"Sentence 1:\", sentence1)\n",
    "print(\"Sentence 2:\", sentence2)\n",
    "print(\"Similarity score:\", cosine_scores.item())"
   ]
  },
  {
   "cell_type": "markdown",
   "metadata": {},
   "source": [
    "## Calculate semantic similarity between two lists of sentences"
   ]
  },
  {
   "cell_type": "code",
   "execution_count": 10,
   "metadata": {},
   "outputs": [
    {
     "name": "stdout",
     "output_type": "stream",
     "text": [
      "Sentence 1: I like Python because I can build AI applications\n",
      "Sentence 2: I like Python because I can do data analytics\n",
      "Similarity Score: 0.6948120594024658\n",
      "\n",
      "Sentence 1: I like Python because I can build AI applications\n",
      "Sentence 2: The cat walks on the sidewalk\n",
      "Similarity Score: 0.019101187586784363\n",
      "\n",
      "Sentence 1: I like Python because I can build AI applications\n",
      "Sentence 2: This is a picture of a favorite place on Mount Koya, near Kobe\n",
      "Similarity Score: 0.03388865664601326\n",
      "\n",
      "Sentence 1: The cat sits on the ground\n",
      "Sentence 2: I like Python because I can do data analytics\n",
      "Similarity Score: 0.021911125630140305\n",
      "\n",
      "Sentence 1: The cat sits on the ground\n",
      "Sentence 2: The cat walks on the sidewalk\n",
      "Similarity Score: 0.5934418439865112\n",
      "\n",
      "Sentence 1: The cat sits on the ground\n",
      "Sentence 2: This is a picture of a favorite place on Mount Koya, near Kobe\n",
      "Similarity Score: 0.09048697352409363\n",
      "\n",
      "Sentence 1: I always wanted to go to Japan, but I never had a chance.  Finally I went to Kyoto\n",
      "Sentence 2: I like Python because I can do data analytics\n",
      "Similarity Score: 0.15659910440444946\n",
      "\n",
      "Sentence 1: I always wanted to go to Japan, but I never had a chance.  Finally I went to Kyoto\n",
      "Sentence 2: The cat walks on the sidewalk\n",
      "Similarity Score: 0.0465521477162838\n",
      "\n",
      "Sentence 1: I always wanted to go to Japan, but I never had a chance.  Finally I went to Kyoto\n",
      "Sentence 2: This is a picture of a favorite place on Mount Koya, near Kobe\n",
      "Similarity Score: 0.24325822293758392\n",
      "\n"
     ]
    }
   ],
   "source": [
    "sentences1 = [\"I like Python because I can build AI applications\", \"The cat sits on the ground\",\"I always wanted to go to Japan, but I never had a chance.  Finally I went to Kyoto\"]   \n",
    "sentences2 = [\"I like Python because I can do data analytics\", \"The cat walks on the sidewalk\",\"This is a picture of a favorite place on Mount Koya, near Kobe\"]\n",
    "\n",
    "# encode list of sentences to get their embeddings\n",
    "embedding1 = model.encode(sentences1, convert_to_tensor=True)\n",
    "embedding2 = model.encode(sentences2, convert_to_tensor=True)\n",
    "\n",
    "# compute similarity scores of two embeddings\n",
    "cosine_scores = util.pytorch_cos_sim(embedding1, embedding2)\n",
    "\n",
    "for i in range(len(sentences1)):\n",
    "    for j in range(len(sentences2)):\n",
    "        print(\"Sentence 1:\", sentences1[i])\n",
    "        print(\"Sentence 2:\", sentences2[j])\n",
    "        print(\"Similarity Score:\", cosine_scores[i][j].item())\n",
    "        print()"
   ]
  },
  {
   "cell_type": "markdown",
   "metadata": {},
   "source": [
    "## Retrieve Top K most similar sentences from a corpus given a sentence"
   ]
  },
  {
   "cell_type": "code",
   "execution_count": 134,
   "metadata": {},
   "outputs": [],
   "source": [
    "corpus = [\"I like Python because I can build AI applications\",\n",
    "          \"I like Python because I can do data analytics\",\n",
    "          \"The cat sits on the ground\",\n",
    "         \"The cat walks on the sidewalk\",\n",
    "         \"I always wanted to go to Japan, but I never had a chance.  Finally I went to Kyoto\",\n",
    "         \"This is a picture of a favorite place on Mount Koya, near Kobe\"]\n",
    "\n",
    "# encode corpus to get corpus embeddings\n",
    "corpus_embeddings = model.encode(corpus, convert_to_tensor=True)"
   ]
  },
  {
   "cell_type": "code",
   "execution_count": 135,
   "metadata": {},
   "outputs": [],
   "source": [
    "sentence = \"Saicho went to Mount Hiei near Kyoto\"\n",
    "\n",
    "# encode sentence to get sentence embeddings\n",
    "sentence_embedding = model.encode(sentence, convert_to_tensor=True)"
   ]
  },
  {
   "cell_type": "code",
   "execution_count": 136,
   "metadata": {},
   "outputs": [
    {
     "data": {
      "text/plain": [
       "torch.Size([512])"
      ]
     },
     "execution_count": 136,
     "metadata": {},
     "output_type": "execute_result"
    }
   ],
   "source": [
    "sentence_embedding.shape"
   ]
  },
  {
   "cell_type": "code",
   "execution_count": 137,
   "metadata": {},
   "outputs": [
    {
     "name": "stdout",
     "output_type": "stream",
     "text": [
      "Sentence: Saicho went to Mount Hiei near Kyoto \n",
      "\n",
      "Top 2 most similar sentences in corpus:\n",
      "I always wanted to go to Japan, but I never had a chance.  Finally I went to Kyoto (Score: 0.4942)\n",
      "This is a picture of a favorite place on Mount Koya, near Kobe (Score: 0.4589)\n"
     ]
    }
   ],
   "source": [
    "# top_k results to return\n",
    "top_k=2\n",
    "\n",
    "# compute similarity scores of the sentence with the corpus\n",
    "cos_scores = util.pytorch_cos_sim(sentence_embedding, corpus_embeddings)[0]\n",
    "\n",
    "# Sort the results in decreasing order and get the first top_k\n",
    "top_results = np.argpartition(-cos_scores, range(top_k))[0:top_k]\n",
    "\n",
    "print(\"Sentence:\", sentence, \"\\n\")\n",
    "print(\"Top\", top_k, \"most similar sentences in corpus:\")\n",
    "for idx in top_results[0:top_k]:\n",
    "    print(corpus[idx], \"(Score: %.4f)\" % (cos_scores[idx]))"
   ]
  }
 ],
 "metadata": {
  "kernelspec": {
   "display_name": "satans-transformers",
   "language": "python",
   "name": "satans-transformers"
  },
  "language_info": {
   "codemirror_mode": {
    "name": "ipython",
    "version": 3
   },
   "file_extension": ".py",
   "mimetype": "text/x-python",
   "name": "python",
   "nbconvert_exporter": "python",
   "pygments_lexer": "ipython3",
   "version": "3.9.12"
  }
 },
 "nbformat": 4,
 "nbformat_minor": 2
}
